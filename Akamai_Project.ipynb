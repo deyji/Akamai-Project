{
 "cells": [
  {
   "cell_type": "markdown",
   "metadata": {},
   "source": [
    "# AKAMAI Technologies Inc Report by Sodiq Adebiyi"
   ]
  },
  {
   "cell_type": "markdown",
   "metadata": {},
   "source": [
    "## Data importation and manipulation"
   ]
  },
  {
   "cell_type": "markdown",
   "metadata": {},
   "source": [
    "**NOTE: To execute program, set 'mypath' to directory of zip file.**<br>\n",
    "**Please rename zip file to Archive.zip and put in a new folder to run script**<br>\n",
    "**Import Libraries and install dependencies**"
   ]
  },
  {
   "cell_type": "markdown",
   "metadata": {},
   "source": [
    "Please note that this works end to end as in a pipeline and the program will fail to run if the Zip forlder is not named 'Archive'. For easy execution, copy the archive zip file to an empty folder, set mypath to the directory of that folder as prompted in frame 2."
   ]
  },
  {
   "cell_type": "code",
   "execution_count": 1,
   "metadata": {},
   "outputs": [],
   "source": [
    "import time\n",
    "import pandas as pd\n",
    "import os\n",
    "import seaborn as sns\n",
    "import matplotlib.pyplot as plt\n",
    "import numpy as np\n",
    "import scipy\n",
    "\n",
    "from os import listdir\n",
    "from os.path import isfile, join\n",
    "\n",
    "try:\n",
    "    from zipfile import ZipFile\n",
    "except:\n",
    "    !pip install zipfile"
   ]
  },
  {
   "cell_type": "code",
   "execution_count": 2,
   "metadata": {},
   "outputs": [
    {
     "name": "stdout",
     "output_type": "stream",
     "text": [
      "Enter directory containing Arcive.zip----> C:/Users/olola/Downloads/Akamai Files\n"
     ]
    }
   ],
   "source": [
    "mypath = input('Enter directory containing Arcive.zip----> ') #format----------> 'C:/Users/olola/Downloads/Akamai Files"
   ]
  },
  {
   "cell_type": "code",
   "execution_count": 3,
   "metadata": {},
   "outputs": [],
   "source": [
    "start_time = time.time()"
   ]
  },
  {
   "cell_type": "raw",
   "metadata": {},
   "source": [
    "               Function         |        Usage\n",
    "--------------------------------|-------------------------------------------------------------------\n",
    "zipExtractor()                  |Extract the files from the zip archive\n",
    "parseDict()                     |Build a dictionary with index keys and all the files in the zip archive as values\n",
    "dfMgmt()                        |Build a unified pandas dataframe of all the files in the dictionary\n",
    "dataManipulationDriver()        |Transforms the data as required for the report\n",
    "extractEngInfo()                |Extract Engine specific data from the scan column\n",
    "createBarPlot()                 |Plot a bar chart to identify the Engine with the most detections\n",
    "createHeatMap()                 |Create a heat map to show similarity between different Engines at a glance\n",
    "createCDF()                     |Create the Cummulative frequency curve for the data\n",
    "urlClass()                      |Identify the reason the url is tagged as malicious"
   ]
  },
  {
   "cell_type": "code",
   "execution_count": 4,
   "metadata": {
    "scrolled": true
   },
   "outputs": [],
   "source": [
    "def zipExtractor():                   \n",
    "    with ZipFile(mypath+'/Archive.zip', 'r') as zipObj:\n",
    "        zipObj.extractall(mypath+'/Archive')"
   ]
  },
  {
   "cell_type": "markdown",
   "metadata": {},
   "source": [
    "<em>Import all the JSON files into the 'dictOfFiles' dictionary to begin parsing</em>"
   ]
  },
  {
   "cell_type": "code",
   "execution_count": 5,
   "metadata": {},
   "outputs": [],
   "source": [
    "def parseDict(mypath):\n",
    "    files = [f for f in os.listdir(mypath+'/Archive/') if os.path.isfile(os.path.join(mypath+'/Archive/',f))]\n",
    "    filepaths = [mypath+'/Archive/'+ f for f in files]\n",
    "    dictOfFiles = {}\n",
    "    for i in range(len(filepaths)):\n",
    "        dictOfFiles[i] = pd.read_json(filepaths[i], lines=True)\n",
    "    return dictOfFiles"
   ]
  },
  {
   "cell_type": "markdown",
   "metadata": {},
   "source": [
    "<em>Concatenate all the files into a single dataframe</em>"
   ]
  },
  {
   "cell_type": "code",
   "execution_count": 6,
   "metadata": {},
   "outputs": [],
   "source": [
    "def dfMgmt():\n",
    "    newDF = pd.concat([dictOfFiles[i] for i in range(len(dictOfFiles))], ignore_index = True)\n",
    "    newDF.head(10)\n",
    "    return newDF"
   ]
  },
  {
   "cell_type": "markdown",
   "metadata": {},
   "source": [
    "<em>Manipulate dataframe to fit requirements</em>"
   ]
  },
  {
   "cell_type": "code",
   "execution_count": 7,
   "metadata": {},
   "outputs": [],
   "source": [
    "def dataManipulationDriver(newDF):\n",
    "    expOutput = pd.DataFrame(columns = ['url', 'detectedURL',], index = [f for f in range(len(newDF))])\n",
    "    temp=[]\n",
    "    for i in range(len(newDF)):\n",
    "        temp.append(str(newDF['url'].iloc[i]).split('/')[2])\n",
    "    for label, content in newDF.iteritems():\n",
    "        if label in ['url', 'total', 'scan_date']:\n",
    "            expOutput[label] = content\n",
    "        else:\n",
    "            pass\n",
    "    expOutput.rename(columns = {'total': 'totalScannedEngines'}, inplace = True)\n",
    "    expOutput['FDQN'] = pd.DataFrame(temp)\n",
    "    init = []\n",
    "    init2 = []\n",
    "    for index, content in newDF.iterrows():\n",
    "        eng = []\n",
    "        for x in content[-1].keys():\n",
    "            if content[-1][x]['detected']==True:\n",
    "                eng.append(x)\n",
    "        init.append(eng)\n",
    "        init2.append(len(eng))\n",
    "    expOutput['detectedURL'] = init\n",
    "    expOutput['numberOfDetectionEngines'] = init2\n",
    "    return expOutput"
   ]
  },
  {
   "cell_type": "markdown",
   "metadata": {},
   "source": [
    "<em>Extract information about each engine</em>"
   ]
  },
  {
   "cell_type": "code",
   "execution_count": 8,
   "metadata": {},
   "outputs": [],
   "source": [
    "def extractEngInfo(expOutput):\n",
    "    temp = []\n",
    "    for i in range(len(expOutput)):\n",
    "        for j in range(len(expOutput['detectedURL'].iloc[i])):\n",
    "            temp.append(expOutput['detectedURL'].iloc[i][j])\n",
    "    engCount = {}\n",
    "    for i in set(temp):\n",
    "        engCount[i] = temp.count(i)\n",
    "    del(temp)\n",
    "    engCountDF = pd.DataFrame.from_dict(engCount, orient = 'index')\n",
    "    engCountDF.reset_index(level=0, inplace=True)\n",
    "    engCountDF = engCountDF.rename(columns = {'index': 'Engines', 0: 'Detections'})\n",
    "    engCountDF = engCountDF.sort_values(by = 'Detections', ascending = False)\n",
    "    return engCountDF"
   ]
  },
  {
   "cell_type": "markdown",
   "metadata": {},
   "source": [
    "## Data Visualization"
   ]
  },
  {
   "cell_type": "markdown",
   "metadata": {},
   "source": [
    "<em>Create a Bar Chart for the top 10 engines</em>"
   ]
  },
  {
   "cell_type": "code",
   "execution_count": 9,
   "metadata": {},
   "outputs": [],
   "source": [
    "def createBarPlot(simDF):\n",
    "    clrs = ['grey' if (x < max(simDF['Detections'])) else 'red' for x in simDF['Detections'].to_list() ]\n",
    "    sns.barplot(x='Engines', y = 'Detections', data = simDF, palette = clrs)\n",
    "    plt.xticks(rotation=90)\n",
    "    plt.show()"
   ]
  },
  {
   "cell_type": "markdown",
   "metadata": {},
   "source": [
    "<em>Create heatmap to visualize similarity</em>"
   ]
  },
  {
   "cell_type": "code",
   "execution_count": 10,
   "metadata": {},
   "outputs": [],
   "source": [
    "def createHeatMap(simDF):#simDF.to_excel('C:/Users/olola/Downloads/Akamai Files/similarity.xlsx')\n",
    "    for i in simDF['Engines'].tolist():\n",
    "        simDF[i] = 0\n",
    "    lx = simDF.columns.tolist()\n",
    "    lx.remove('Engines')\n",
    "    lx.remove('Detections')\n",
    "    #lx is a list of all the engines\n",
    "    for i in lx:\n",
    "        for j in range(len(simDF)):\n",
    "            if simDF['Detections'].iloc[j] < simDF[simDF['Engines']==i]['Detections'].tolist()[0]:\n",
    "                simDF[i].iloc[j] = (simDF['Detections'].iloc[j] / simDF[simDF['Engines']==i]['Detections'].tolist()[0]) * 100\n",
    "            elif simDF[simDF['Engines']==i]['Detections'].tolist()[0] < simDF['Detections'].iloc[j]:\n",
    "                simDF[i].iloc[j] = (simDF[simDF['Engines']==i]['Detections'].tolist()[0] / simDF['Detections'].iloc[j]) * 100\n",
    "            else:\n",
    "                simDF[i].iloc[j] = 100\n",
    "\n",
    "    try:\n",
    "        simDF.to_csv(path_or_buf = mypath+'/ExtractedFiles/similarity.csv')\n",
    "    except:\n",
    "        pass\n",
    "    temp = simDF.copy(deep = False)\n",
    "    temp = temp.drop(columns = ['Detections'])\n",
    "    temp.set_index('Engines', inplace = True)\n",
    "    temp\n",
    "    sns.heatmap(data = temp)"
   ]
  },
  {
   "cell_type": "markdown",
   "metadata": {},
   "source": [
    "<em>Create Cumulative Distribution Frequency curve</em>"
   ]
  },
  {
   "cell_type": "code",
   "execution_count": 11,
   "metadata": {},
   "outputs": [],
   "source": [
    "def createCDF(engCountDF):\n",
    "    csum = engCountDF['Detections'].sum()\n",
    "    for i in range(len(engCountDF)):\n",
    "        engCountDF['PercentageOfDetection'] = (engCountDF['Detections']/csum) *100\n",
    "        engCountDF['CumSumPercentages'] = engCountDF['PercentageOfDetection'].cumsum(axis=0)\n",
    "    engCountDF = engCountDF.sort_values(by = 'CumSumPercentages', ascending = True)\n",
    "    try:\n",
    "        engCountDF.to_csv(path_or_buf = mypath+'/ExtractedFiles/cdfData.csv')\n",
    "    except:\n",
    "        pass\n",
    "    #engCountDF\n",
    "    engCountDF = engCountDF.sort_values(by = 'PercentageOfDetection', ascending = True)\n",
    "    norm_cdf = scipy.stats.norm.cdf(engCountDF['PercentageOfDetection']) # calculate the cdf - also discrete\n",
    "\n",
    "    # plot the cdf\n",
    "    sns.set(rc={'figure.figsize':(13.7,12.27)})\n",
    "    sns.lineplot(x=engCountDF['Engines'], y=norm_cdf)\n",
    "    plt.xticks(rotation=90)\n",
    "    plt.show()"
   ]
  },
  {
   "cell_type": "markdown",
   "metadata": {},
   "source": [
    "## Other Information Gathering "
   ]
  },
  {
   "cell_type": "markdown",
   "metadata": {},
   "source": [
    "<em>Print dataframe showing url and sophos label</em>"
   ]
  },
  {
   "cell_type": "code",
   "execution_count": 12,
   "metadata": {},
   "outputs": [],
   "source": [
    "def urlClass():\n",
    "    output2 = newDF.sort_values(by = 'positives', ascending = False,)\n",
    "    output2 = output2.head(10)\n",
    "    output2 = output2.reset_index()\n",
    "    df = pd.DataFrame(np.zeros((len(output2), 2)), columns = ['url', 'category'])\n",
    "\n",
    "    for index, value in output2.iterrows():\n",
    "        df['url'].iloc[index] = value[3]\n",
    "        df['category'].iloc[index]=value[13]['sophos category']\n",
    "    return df"
   ]
  },
  {
   "cell_type": "markdown",
   "metadata": {},
   "source": [
    "## Execute Program"
   ]
  },
  {
   "cell_type": "code",
   "execution_count": 13,
   "metadata": {},
   "outputs": [],
   "source": [
    "zipExtractor()\n",
    "dictOfFiles = parseDict(mypath)\n",
    "newDF = dfMgmt()\n",
    "try:\n",
    "    newDF.to_csv(path_or_buf = mypath+'/ExtractedFiles/Combined_Dataset.csv')\n",
    "except:\n",
    "    pass"
   ]
  },
  {
   "cell_type": "code",
   "execution_count": 14,
   "metadata": {},
   "outputs": [],
   "source": [
    "expOutput = dataManipulationDriver(newDF)"
   ]
  },
  {
   "cell_type": "code",
   "execution_count": 15,
   "metadata": {},
   "outputs": [
    {
     "data": {
      "text/html": [
       "<div>\n",
       "<style scoped>\n",
       "    .dataframe tbody tr th:only-of-type {\n",
       "        vertical-align: middle;\n",
       "    }\n",
       "\n",
       "    .dataframe tbody tr th {\n",
       "        vertical-align: top;\n",
       "    }\n",
       "\n",
       "    .dataframe thead th {\n",
       "        text-align: right;\n",
       "    }\n",
       "</style>\n",
       "<table border=\"1\" class=\"dataframe\">\n",
       "  <thead>\n",
       "    <tr style=\"text-align: right;\">\n",
       "      <th></th>\n",
       "      <th>url</th>\n",
       "      <th>detectedURL</th>\n",
       "      <th>scan_date</th>\n",
       "      <th>totalScannedEngines</th>\n",
       "      <th>FDQN</th>\n",
       "      <th>numberOfDetectionEngines</th>\n",
       "    </tr>\n",
       "  </thead>\n",
       "  <tbody>\n",
       "    <tr>\n",
       "      <th>4212</th>\n",
       "      <td>http://paypial-us.com/</td>\n",
       "      <td>[Comodo Valkyrie Verdict, Scantitan, AlienVaul...</td>\n",
       "      <td>2021-05-07 08:53:45</td>\n",
       "      <td>90</td>\n",
       "      <td>paypial-us.com</td>\n",
       "      <td>25</td>\n",
       "    </tr>\n",
       "    <tr>\n",
       "      <th>2276</th>\n",
       "      <td>http://cancelnewlogin.com/</td>\n",
       "      <td>[Comodo Valkyrie Verdict, AlienVault, Sophos, ...</td>\n",
       "      <td>2021-05-07 08:53:38</td>\n",
       "      <td>89</td>\n",
       "      <td>cancelnewlogin.com</td>\n",
       "      <td>12</td>\n",
       "    </tr>\n",
       "    <tr>\n",
       "      <th>9250</th>\n",
       "      <td>https://www.paxful.mariagiovannalupu.com/verif...</td>\n",
       "      <td>[Sophos, Phishtank, Fortinet, Google Safebrows...</td>\n",
       "      <td>2021-05-07 08:53:44</td>\n",
       "      <td>89</td>\n",
       "      <td>www.paxful.mariagiovannalupu.com</td>\n",
       "      <td>18</td>\n",
       "    </tr>\n",
       "    <tr>\n",
       "      <th>4362</th>\n",
       "      <td>http://protect-mylogindetails.com/</td>\n",
       "      <td>[Comodo Valkyrie Verdict, AlienVault, Sophos, ...</td>\n",
       "      <td>2021-05-07 08:53:46</td>\n",
       "      <td>89</td>\n",
       "      <td>protect-mylogindetails.com</td>\n",
       "      <td>21</td>\n",
       "    </tr>\n",
       "    <tr>\n",
       "      <th>4065</th>\n",
       "      <td>https://docsharex-authorize.firebaseapp.com/</td>\n",
       "      <td>[Comodo Valkyrie Verdict, AlienVault, Sophos, ...</td>\n",
       "      <td>2021-05-07 08:53:46</td>\n",
       "      <td>89</td>\n",
       "      <td>docsharex-authorize.firebaseapp.com</td>\n",
       "      <td>24</td>\n",
       "    </tr>\n",
       "    <tr>\n",
       "      <th>3564</th>\n",
       "      <td>https://docsharex-authorize.firebaseapp.com/xx</td>\n",
       "      <td>[Comodo Valkyrie Verdict, AlienVault, Sophos, ...</td>\n",
       "      <td>2021-05-07 08:53:44</td>\n",
       "      <td>89</td>\n",
       "      <td>docsharex-authorize.firebaseapp.com</td>\n",
       "      <td>24</td>\n",
       "    </tr>\n",
       "    <tr>\n",
       "      <th>484</th>\n",
       "      <td>https://telete.in/jagressor_kz</td>\n",
       "      <td>[Comodo Valkyrie Verdict, Sophos, Fortinet, al...</td>\n",
       "      <td>2021-05-07 08:59:00</td>\n",
       "      <td>89</td>\n",
       "      <td>telete.in</td>\n",
       "      <td>12</td>\n",
       "    </tr>\n",
       "    <tr>\n",
       "      <th>4752</th>\n",
       "      <td>http://cdn.discordapp.com/attachments/75084237...</td>\n",
       "      <td>[MalwarePatrol, MalSilo]</td>\n",
       "      <td>2021-05-07 08:53:54</td>\n",
       "      <td>88</td>\n",
       "      <td>cdn.discordapp.com</td>\n",
       "      <td>2</td>\n",
       "    </tr>\n",
       "    <tr>\n",
       "      <th>21224</th>\n",
       "      <td>http://v29340.1blu.de/</td>\n",
       "      <td>[AutoShun]</td>\n",
       "      <td>2021-05-07 09:04:25</td>\n",
       "      <td>88</td>\n",
       "      <td>v29340.1blu.de</td>\n",
       "      <td>1</td>\n",
       "    </tr>\n",
       "    <tr>\n",
       "      <th>31071</th>\n",
       "      <td>http://lookitme.com/</td>\n",
       "      <td>[]</td>\n",
       "      <td>2021-05-07 09:07:27</td>\n",
       "      <td>88</td>\n",
       "      <td>lookitme.com</td>\n",
       "      <td>0</td>\n",
       "    </tr>\n",
       "  </tbody>\n",
       "</table>\n",
       "</div>"
      ],
      "text/plain": [
       "                                                     url  \\\n",
       "4212                              http://paypial-us.com/   \n",
       "2276                          http://cancelnewlogin.com/   \n",
       "9250   https://www.paxful.mariagiovannalupu.com/verif...   \n",
       "4362                  http://protect-mylogindetails.com/   \n",
       "4065        https://docsharex-authorize.firebaseapp.com/   \n",
       "3564      https://docsharex-authorize.firebaseapp.com/xx   \n",
       "484                       https://telete.in/jagressor_kz   \n",
       "4752   http://cdn.discordapp.com/attachments/75084237...   \n",
       "21224                             http://v29340.1blu.de/   \n",
       "31071                               http://lookitme.com/   \n",
       "\n",
       "                                             detectedURL            scan_date  \\\n",
       "4212   [Comodo Valkyrie Verdict, Scantitan, AlienVaul...  2021-05-07 08:53:45   \n",
       "2276   [Comodo Valkyrie Verdict, AlienVault, Sophos, ...  2021-05-07 08:53:38   \n",
       "9250   [Sophos, Phishtank, Fortinet, Google Safebrows...  2021-05-07 08:53:44   \n",
       "4362   [Comodo Valkyrie Verdict, AlienVault, Sophos, ...  2021-05-07 08:53:46   \n",
       "4065   [Comodo Valkyrie Verdict, AlienVault, Sophos, ...  2021-05-07 08:53:46   \n",
       "3564   [Comodo Valkyrie Verdict, AlienVault, Sophos, ...  2021-05-07 08:53:44   \n",
       "484    [Comodo Valkyrie Verdict, Sophos, Fortinet, al...  2021-05-07 08:59:00   \n",
       "4752                            [MalwarePatrol, MalSilo]  2021-05-07 08:53:54   \n",
       "21224                                         [AutoShun]  2021-05-07 09:04:25   \n",
       "31071                                                 []  2021-05-07 09:07:27   \n",
       "\n",
       "       totalScannedEngines                                 FDQN  \\\n",
       "4212                    90                       paypial-us.com   \n",
       "2276                    89                   cancelnewlogin.com   \n",
       "9250                    89     www.paxful.mariagiovannalupu.com   \n",
       "4362                    89           protect-mylogindetails.com   \n",
       "4065                    89  docsharex-authorize.firebaseapp.com   \n",
       "3564                    89  docsharex-authorize.firebaseapp.com   \n",
       "484                     89                            telete.in   \n",
       "4752                    88                   cdn.discordapp.com   \n",
       "21224                   88                       v29340.1blu.de   \n",
       "31071                   88                         lookitme.com   \n",
       "\n",
       "       numberOfDetectionEngines  \n",
       "4212                         25  \n",
       "2276                         12  \n",
       "9250                         18  \n",
       "4362                         21  \n",
       "4065                         24  \n",
       "3564                         24  \n",
       "484                          12  \n",
       "4752                          2  \n",
       "21224                         1  \n",
       "31071                         0  "
      ]
     },
     "execution_count": 15,
     "metadata": {},
     "output_type": "execute_result"
    }
   ],
   "source": [
    "try:\n",
    "    expOutput.to_csv(path_or_buf = mypath+'/ExtractedFiles/transformedDS.csv')\n",
    "except:\n",
    "    pass\n",
    "expOutput.sort_values(by='totalScannedEngines', ascending = False).head(10)"
   ]
  },
  {
   "cell_type": "code",
   "execution_count": 16,
   "metadata": {},
   "outputs": [
    {
     "data": {
      "text/html": [
       "<div>\n",
       "<style scoped>\n",
       "    .dataframe tbody tr th:only-of-type {\n",
       "        vertical-align: middle;\n",
       "    }\n",
       "\n",
       "    .dataframe tbody tr th {\n",
       "        vertical-align: top;\n",
       "    }\n",
       "\n",
       "    .dataframe thead th {\n",
       "        text-align: right;\n",
       "    }\n",
       "</style>\n",
       "<table border=\"1\" class=\"dataframe\">\n",
       "  <thead>\n",
       "    <tr style=\"text-align: right;\">\n",
       "      <th></th>\n",
       "      <th>Engines</th>\n",
       "      <th>Detections</th>\n",
       "    </tr>\n",
       "  </thead>\n",
       "  <tbody>\n",
       "    <tr>\n",
       "      <th>6</th>\n",
       "      <td>Fortinet</td>\n",
       "      <td>2786</td>\n",
       "    </tr>\n",
       "    <tr>\n",
       "      <th>31</th>\n",
       "      <td>Webroot</td>\n",
       "      <td>2770</td>\n",
       "    </tr>\n",
       "    <tr>\n",
       "      <th>36</th>\n",
       "      <td>MalwarePatrol</td>\n",
       "      <td>2592</td>\n",
       "    </tr>\n",
       "    <tr>\n",
       "      <th>12</th>\n",
       "      <td>CyRadar</td>\n",
       "      <td>2365</td>\n",
       "    </tr>\n",
       "    <tr>\n",
       "      <th>24</th>\n",
       "      <td>alphaMountain.ai</td>\n",
       "      <td>1961</td>\n",
       "    </tr>\n",
       "    <tr>\n",
       "      <th>51</th>\n",
       "      <td>Comodo Valkyrie Verdict</td>\n",
       "      <td>1563</td>\n",
       "    </tr>\n",
       "    <tr>\n",
       "      <th>9</th>\n",
       "      <td>CRDF</td>\n",
       "      <td>1453</td>\n",
       "    </tr>\n",
       "    <tr>\n",
       "      <th>53</th>\n",
       "      <td>Sophos</td>\n",
       "      <td>1216</td>\n",
       "    </tr>\n",
       "    <tr>\n",
       "      <th>22</th>\n",
       "      <td>G-Data</td>\n",
       "      <td>1195</td>\n",
       "    </tr>\n",
       "    <tr>\n",
       "      <th>8</th>\n",
       "      <td>ESET</td>\n",
       "      <td>905</td>\n",
       "    </tr>\n",
       "  </tbody>\n",
       "</table>\n",
       "</div>"
      ],
      "text/plain": [
       "                    Engines  Detections\n",
       "6                  Fortinet        2786\n",
       "31                  Webroot        2770\n",
       "36            MalwarePatrol        2592\n",
       "12                  CyRadar        2365\n",
       "24         alphaMountain.ai        1961\n",
       "51  Comodo Valkyrie Verdict        1563\n",
       "9                      CRDF        1453\n",
       "53                   Sophos        1216\n",
       "22                   G-Data        1195\n",
       "8                      ESET         905"
      ]
     },
     "execution_count": 16,
     "metadata": {},
     "output_type": "execute_result"
    }
   ],
   "source": [
    "engCountDF = extractEngInfo(expOutput)\n",
    "simDF = engCountDF.head(10)\n",
    "simDF"
   ]
  },
  {
   "cell_type": "code",
   "execution_count": 17,
   "metadata": {
    "scrolled": true
   },
   "outputs": [
    {
     "data": {
      "image/png": "[encoded data removed]",
      "text/plain": [
       "<Figure size 432x288 with 1 Axes>"
      ]
     },
     "metadata": {
      "needs_background": "light"
     },
     "output_type": "display_data"
    }
   ],
   "source": [
    "createBarPlot(simDF)"
   ]
  },
  {
   "cell_type": "code",
   "execution_count": 18,
   "metadata": {},
   "outputs": [
    {
     "name": "stderr",
     "output_type": "stream",
     "text": [
      "<ipython-input-10-c3f8d2dfff40>:3: SettingWithCopyWarning: \n",
      "A value is trying to be set on a copy of a slice from a DataFrame.\n",
      "Try using .loc[row_indexer,col_indexer] = value instead\n",
      "\n",
      "See the caveats in the documentation: https://pandas.pydata.org/pandas-docs/stable/user_guide/indexing.html#returning-a-view-versus-a-copy\n",
      "  simDF[i] = 0\n",
      "C:\\Users\\olola\\anaconda3\\lib\\site-packages\\pandas\\core\\indexing.py:670: SettingWithCopyWarning: \n",
      "A value is trying to be set on a copy of a slice from a DataFrame\n",
      "\n",
      "See the caveats in the documentation: https://pandas.pydata.org/pandas-docs/stable/user_guide/indexing.html#returning-a-view-versus-a-copy\n",
      "  iloc._setitem_with_indexer(indexer, value)\n",
      "<ipython-input-10-c3f8d2dfff40>:15: SettingWithCopyWarning: \n",
      "A value is trying to be set on a copy of a slice from a DataFrame\n",
      "\n",
      "See the caveats in the documentation: https://pandas.pydata.org/pandas-docs/stable/user_guide/indexing.html#returning-a-view-versus-a-copy\n",
      "  simDF[i].iloc[j] = 100\n",
      "<ipython-input-10-c3f8d2dfff40>:11: SettingWithCopyWarning: \n",
      "A value is trying to be set on a copy of a slice from a DataFrame\n",
      "\n",
      "See the caveats in the documentation: https://pandas.pydata.org/pandas-docs/stable/user_guide/indexing.html#returning-a-view-versus-a-copy\n",
      "  simDF[i].iloc[j] = (simDF['Detections'].iloc[j] / simDF[simDF['Engines']==i]['Detections'].tolist()[0]) * 100\n",
      "<ipython-input-10-c3f8d2dfff40>:13: SettingWithCopyWarning: \n",
      "A value is trying to be set on a copy of a slice from a DataFrame\n",
      "\n",
      "See the caveats in the documentation: https://pandas.pydata.org/pandas-docs/stable/user_guide/indexing.html#returning-a-view-versus-a-copy\n",
      "  simDF[i].iloc[j] = (simDF[simDF['Engines']==i]['Detections'].tolist()[0] / simDF['Detections'].iloc[j]) * 100\n"
     ]
    },
    {
     "data": {
      "image/png": "[encoded data removed]",
      "text/plain": [
       "<Figure size 432x288 with 2 Axes>"
      ]
     },
     "metadata": {
      "needs_background": "light"
     },
     "output_type": "display_data"
    }
   ],
   "source": [
    "createHeatMap(simDF)"
   ]
  },
  {
   "cell_type": "code",
   "execution_count": 19,
   "metadata": {},
   "outputs": [
    {
     "data": {
      "image/png": "[encoded data removed]",
      "text/plain": [
       "<Figure size 986.4x883.44 with 1 Axes>"
      ]
     },
     "metadata": {},
     "output_type": "display_data"
    }
   ],
   "source": [
    "createCDF(engCountDF)"
   ]
  },
  {
   "cell_type": "code",
   "execution_count": 20,
   "metadata": {
    "scrolled": true
   },
   "outputs": [
    {
     "name": "stderr",
     "output_type": "stream",
     "text": [
      "C:\\Users\\olola\\anaconda3\\lib\\site-packages\\pandas\\core\\indexing.py:670: SettingWithCopyWarning: \n",
      "A value is trying to be set on a copy of a slice from a DataFrame\n",
      "\n",
      "See the caveats in the documentation: https://pandas.pydata.org/pandas-docs/stable/user_guide/indexing.html#returning-a-view-versus-a-copy\n",
      "  iloc._setitem_with_indexer(indexer, value)\n"
     ]
    },
    {
     "data": {
      "text/html": [
       "<div>\n",
       "<style scoped>\n",
       "    .dataframe tbody tr th:only-of-type {\n",
       "        vertical-align: middle;\n",
       "    }\n",
       "\n",
       "    .dataframe tbody tr th {\n",
       "        vertical-align: top;\n",
       "    }\n",
       "\n",
       "    .dataframe thead th {\n",
       "        text-align: right;\n",
       "    }\n",
       "</style>\n",
       "<table border=\"1\" class=\"dataframe\">\n",
       "  <thead>\n",
       "    <tr style=\"text-align: right;\">\n",
       "      <th></th>\n",
       "      <th>url</th>\n",
       "      <th>category</th>\n",
       "    </tr>\n",
       "  </thead>\n",
       "  <tbody>\n",
       "    <tr>\n",
       "      <th>0</th>\n",
       "      <td>http://paypial-us.com/</td>\n",
       "      <td>illegal phishing, phishing and fraud</td>\n",
       "    </tr>\n",
       "    <tr>\n",
       "      <th>1</th>\n",
       "      <td>https://docsharex-authorize.firebaseapp.com/</td>\n",
       "      <td>malware repository, spyware and malware</td>\n",
       "    </tr>\n",
       "    <tr>\n",
       "      <th>2</th>\n",
       "      <td>https://docsharex-authorize.firebaseapp.com/xx</td>\n",
       "      <td>malware repository, spyware and malware</td>\n",
       "    </tr>\n",
       "    <tr>\n",
       "      <th>3</th>\n",
       "      <td>https://confirm-mypayees-support.com/Login.php</td>\n",
       "      <td>malware repository, spyware and malware</td>\n",
       "    </tr>\n",
       "    <tr>\n",
       "      <th>4</th>\n",
       "      <td>https://joingrupwhatsapp6.duckdns.org/</td>\n",
       "      <td>illegal phishing, phishing and fraud</td>\n",
       "    </tr>\n",
       "    <tr>\n",
       "      <th>5</th>\n",
       "      <td>http://107.172.43.154/public/banks/tangerine/</td>\n",
       "      <td>illegal phishing, phishing and fraud</td>\n",
       "    </tr>\n",
       "    <tr>\n",
       "      <th>6</th>\n",
       "      <td>https://certicobanque.cf/MGen/F6cc906b5ba22e73...</td>\n",
       "      <td>illegal phishing, phishing and fraud</td>\n",
       "    </tr>\n",
       "    <tr>\n",
       "      <th>7</th>\n",
       "      <td>http://grubtantenadiah.crotteros.cf/</td>\n",
       "      <td>illegal phishing, phishing and fraud</td>\n",
       "    </tr>\n",
       "    <tr>\n",
       "      <th>8</th>\n",
       "      <td>http://onlinehalifax-account.com/Halifax</td>\n",
       "      <td>malware repository, spyware and malware</td>\n",
       "    </tr>\n",
       "    <tr>\n",
       "      <th>9</th>\n",
       "      <td>https://tokendigital.1bn-zonaseguraperu.com/BN...</td>\n",
       "      <td>malware repository, spyware and malware</td>\n",
       "    </tr>\n",
       "  </tbody>\n",
       "</table>\n",
       "</div>"
      ],
      "text/plain": [
       "                                                 url  \\\n",
       "0                             http://paypial-us.com/   \n",
       "1       https://docsharex-authorize.firebaseapp.com/   \n",
       "2     https://docsharex-authorize.firebaseapp.com/xx   \n",
       "3     https://confirm-mypayees-support.com/Login.php   \n",
       "4             https://joingrupwhatsapp6.duckdns.org/   \n",
       "5      http://107.172.43.154/public/banks/tangerine/   \n",
       "6  https://certicobanque.cf/MGen/F6cc906b5ba22e73...   \n",
       "7               http://grubtantenadiah.crotteros.cf/   \n",
       "8           http://onlinehalifax-account.com/Halifax   \n",
       "9  https://tokendigital.1bn-zonaseguraperu.com/BN...   \n",
       "\n",
       "                                  category  \n",
       "0     illegal phishing, phishing and fraud  \n",
       "1  malware repository, spyware and malware  \n",
       "2  malware repository, spyware and malware  \n",
       "3  malware repository, spyware and malware  \n",
       "4     illegal phishing, phishing and fraud  \n",
       "5     illegal phishing, phishing and fraud  \n",
       "6     illegal phishing, phishing and fraud  \n",
       "7     illegal phishing, phishing and fraud  \n",
       "8  malware repository, spyware and malware  \n",
       "9  malware repository, spyware and malware  "
      ]
     },
     "execution_count": 20,
     "metadata": {},
     "output_type": "execute_result"
    }
   ],
   "source": [
    "df = urlClass()\n",
    "df"
   ]
  },
  {
   "cell_type": "markdown",
   "metadata": {},
   "source": [
    "### Execution Time"
   ]
  },
  {
   "cell_type": "code",
   "execution_count": 21,
   "metadata": {},
   "outputs": [
    {
     "name": "stdout",
     "output_type": "stream",
     "text": [
      "Execution time-----> 38.83536982536316 seconds ---\n"
     ]
    }
   ],
   "source": [
    "print(\"Execution time-----> %s seconds ---\" % (time.time() - start_time))"
   ]
  },
  {
   "cell_type": "code",
   "execution_count": null,
   "metadata": {},
   "outputs": [],
   "source": []
  }
 ],
 "metadata": {
  "kernelspec": {
   "display_name": "Python 3",
   "language": "python",
   "name": "python3"
  },
  "language_info": {
   "codemirror_mode": {
    "name": "ipython",
    "version": 3
   },
   "file_extension": ".py",
   "mimetype": "text/x-python",
   "name": "python",
   "nbconvert_exporter": "python",
   "pygments_lexer": "ipython3",
   "version": "3.8.5"
  }
 },
 "nbformat": 4,
 "nbformat_minor": 4
}
